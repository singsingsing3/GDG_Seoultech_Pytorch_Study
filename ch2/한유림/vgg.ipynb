{
  "nbformat": 4,
  "nbformat_minor": 0,
  "metadata": {
    "colab": {
      "provenance": []
    },
    "kernelspec": {
      "name": "python3",
      "display_name": "Python 3"
    },
    "language_info": {
      "name": "python"
    }
  },
  "cells": [
    {
      "cell_type": "markdown",
      "source": [
        "**VGG 이용한 Inference 구현**"
      ],
      "metadata": {
        "id": "g2mseGNauOID"
      }
    },
    {
      "cell_type": "code",
      "execution_count": 3,
      "metadata": {
        "colab": {
          "base_uri": "https://localhost:8080/"
        },
        "id": "dYTrNSIWp1IG",
        "outputId": "2655f059-dcb5-46dc-e1e3-c32b953d6ab5"
      },
      "outputs": [
        {
          "output_type": "stream",
          "name": "stderr",
          "text": [
            "/usr/local/lib/python3.10/dist-packages/torchvision/models/_utils.py:208: UserWarning: The parameter 'pretrained' is deprecated since 0.13 and may be removed in the future, please use 'weights' instead.\n",
            "  warnings.warn(\n",
            "/usr/local/lib/python3.10/dist-packages/torchvision/models/_utils.py:223: UserWarning: Arguments other than a weight enum or `None` for 'weights' are deprecated since 0.13 and may be removed in the future. The current behavior is equivalent to passing `weights=VGG16_Weights.IMAGENET1K_V1`. You can also use `weights=VGG16_Weights.DEFAULT` to get the most up-to-date weights.\n",
            "  warnings.warn(msg)\n",
            "Downloading: \"https://download.pytorch.org/models/vgg16-397923af.pth\" to /root/.cache/torch/hub/checkpoints/vgg16-397923af.pth\n",
            "100%|██████████| 528M/528M [00:05<00:00, 97.1MB/s]\n"
          ]
        },
        {
          "output_type": "stream",
          "name": "stdout",
          "text": [
            "VGG(\n",
            "  (features): Sequential(\n",
            "    (0): Conv2d(3, 64, kernel_size=(3, 3), stride=(1, 1), padding=(1, 1))\n",
            "    (1): ReLU(inplace=True)\n",
            "    (2): Conv2d(64, 64, kernel_size=(3, 3), stride=(1, 1), padding=(1, 1))\n",
            "    (3): ReLU(inplace=True)\n",
            "    (4): MaxPool2d(kernel_size=2, stride=2, padding=0, dilation=1, ceil_mode=False)\n",
            "    (5): Conv2d(64, 128, kernel_size=(3, 3), stride=(1, 1), padding=(1, 1))\n",
            "    (6): ReLU(inplace=True)\n",
            "    (7): Conv2d(128, 128, kernel_size=(3, 3), stride=(1, 1), padding=(1, 1))\n",
            "    (8): ReLU(inplace=True)\n",
            "    (9): MaxPool2d(kernel_size=2, stride=2, padding=0, dilation=1, ceil_mode=False)\n",
            "    (10): Conv2d(128, 256, kernel_size=(3, 3), stride=(1, 1), padding=(1, 1))\n",
            "    (11): ReLU(inplace=True)\n",
            "    (12): Conv2d(256, 256, kernel_size=(3, 3), stride=(1, 1), padding=(1, 1))\n",
            "    (13): ReLU(inplace=True)\n",
            "    (14): Conv2d(256, 256, kernel_size=(3, 3), stride=(1, 1), padding=(1, 1))\n",
            "    (15): ReLU(inplace=True)\n",
            "    (16): MaxPool2d(kernel_size=2, stride=2, padding=0, dilation=1, ceil_mode=False)\n",
            "    (17): Conv2d(256, 512, kernel_size=(3, 3), stride=(1, 1), padding=(1, 1))\n",
            "    (18): ReLU(inplace=True)\n",
            "    (19): Conv2d(512, 512, kernel_size=(3, 3), stride=(1, 1), padding=(1, 1))\n",
            "    (20): ReLU(inplace=True)\n",
            "    (21): Conv2d(512, 512, kernel_size=(3, 3), stride=(1, 1), padding=(1, 1))\n",
            "    (22): ReLU(inplace=True)\n",
            "    (23): MaxPool2d(kernel_size=2, stride=2, padding=0, dilation=1, ceil_mode=False)\n",
            "    (24): Conv2d(512, 512, kernel_size=(3, 3), stride=(1, 1), padding=(1, 1))\n",
            "    (25): ReLU(inplace=True)\n",
            "    (26): Conv2d(512, 512, kernel_size=(3, 3), stride=(1, 1), padding=(1, 1))\n",
            "    (27): ReLU(inplace=True)\n",
            "    (28): Conv2d(512, 512, kernel_size=(3, 3), stride=(1, 1), padding=(1, 1))\n",
            "    (29): ReLU(inplace=True)\n",
            "    (30): MaxPool2d(kernel_size=2, stride=2, padding=0, dilation=1, ceil_mode=False)\n",
            "  )\n",
            "  (avgpool): AdaptiveAvgPool2d(output_size=(7, 7))\n",
            "  (classifier): Sequential(\n",
            "    (0): Linear(in_features=25088, out_features=4096, bias=True)\n",
            "    (1): ReLU(inplace=True)\n",
            "    (2): Dropout(p=0.5, inplace=False)\n",
            "    (3): Linear(in_features=4096, out_features=4096, bias=True)\n",
            "    (4): ReLU(inplace=True)\n",
            "    (5): Dropout(p=0.5, inplace=False)\n",
            "    (6): Linear(in_features=4096, out_features=1000, bias=True)\n",
            "  )\n",
            ")\n"
          ]
        }
      ],
      "source": [
        "import numpy as np\n",
        "import json\n",
        "from PIL import Image\n",
        "import matplotlib.pyplot as plt\n",
        "\n",
        "import torch\n",
        "import torchvision\n",
        "from torchvision import models, transforms\n",
        "\n",
        "net=models.vgg16(pretrained=True)\n",
        "net.eval()\n",
        "\n",
        "print(net)"
      ]
    },
    {
      "cell_type": "code",
      "source": [
        "class BaseTransform():\n",
        "  def __init__(self, resize, mean, std):\n",
        "    self.base_transform=transforms.Compose([\n",
        "        transforms.Resize(resize),\n",
        "        transforms.CenterCrop(resize),\n",
        "        transforms.ToTensor(),\n",
        "        transforms.Normalize(mean, std)\n",
        "    ])\n",
        "\n",
        "  def __call__(self, img):\n",
        "    return self.base_transform(img)"
      ],
      "metadata": {
        "id": "1eajHhW6qPg_"
      },
      "execution_count": null,
      "outputs": []
    },
    {
      "cell_type": "code",
      "source": [
        "ILSVRC_class_index=json.load(open('./data/imagenet_class_index.json', 'r'))\n",
        "ILSVRC_class_index"
      ],
      "metadata": {
        "id": "gaXW-QDQqz17"
      },
      "execution_count": null,
      "outputs": []
    },
    {
      "cell_type": "code",
      "source": [
        "class ILSVRCPredictor():\n",
        "  def __init__(self, class_index):\n",
        "    self.class_index=class_index\n",
        "\n",
        "  def predict_max(self, out):\n",
        "    maxid=np.argmax(out.detach().numpy())\n",
        "    predicted_label_name=self.class_index[str(maxid)][1]\n",
        "\n",
        "    return predicted_label_name"
      ],
      "metadata": {
        "id": "BgWxZD7FrGXc"
      },
      "execution_count": null,
      "outputs": []
    },
    {
      "cell_type": "code",
      "source": [
        "predictor=ILSVRCPredictor(ILSVRC_class_index)\n",
        "\n",
        "image_file_path='./data/goldenretriever-3724972_640.jpg'\n",
        "img=Image.open(image_file_path)\n",
        "\n",
        "resize=224\n",
        "mean=(0.485, 0.456, 0.406)\n",
        "std=(0.229, 0.224, 0.225)\n",
        "\n",
        "transform=BaseTransform(resize, mean, std)\n",
        "img_transformed=transform(img)\n",
        "inputs=img_transformed.unsqueeze_(0)\n",
        "\n",
        "out=net(inputs)\n",
        "result=predictor.predict_max(out)\n",
        "\n",
        "print(result)"
      ],
      "metadata": {
        "id": "KCm_Yy96rkTF"
      },
      "execution_count": null,
      "outputs": []
    },
    {
      "cell_type": "markdown",
      "source": [
        "**VGG 이용한 전이학습 구현**\n",
        "\n",
        "전이학습이란: 학습된 모델을 기반으로 최종 출력층을 바꿔 학습하는 기법이다."
      ],
      "metadata": {
        "id": "K58IUTN4ucJn"
      }
    },
    {
      "cell_type": "code",
      "source": [
        "class ImageTransform():\n",
        "  def __init__(self, resize, mean, std):\n",
        "    self.data_transform={\n",
        "        'train': transforms.Compose([\n",
        "            transforms.RandomResizedCrop(\n",
        "                resize, scale=(0.5, 1.0)),\n",
        "            transforms.RandomHorizontalFlip(),\n",
        "            transforms.ToTensor(),\n",
        "            transforms.Normalize(mean, std)\n",
        "            ]),\n",
        "         'val': transforms.Compose([\n",
        "            transforms.Resize(resize),\n",
        "            transforms.CenterCrop(resize),\n",
        "            transforms.ToTensor(),\n",
        "            transforms.Normalize(mean, std)\n",
        "            ]),\n",
        "    }\n",
        "\n",
        "  def __call__(self,img, phase='train'):\n",
        "    return self.data_transform[phase](img)"
      ],
      "metadata": {
        "id": "miJjvV9ei0-6"
      },
      "execution_count": null,
      "outputs": []
    },
    {
      "cell_type": "code",
      "source": [
        "import os.path as osp\n",
        "import glob\n",
        "def make_datapath_list(phase='train'):\n",
        "  rootpath=\"./data/hymenoptera_data\"\n",
        "  target_path=osp.join(rootpath+phase+'/**/*.jpg')\n",
        "  print(target_path)\n",
        "\n",
        "  path_list=[]\n",
        "\n",
        "  for path in glob.glob(target_path):\n",
        "    path_list.append(path)\n",
        "\n",
        "  return path_list\n",
        "\n",
        "train_list=make_datapath_list(phase='train')\n",
        "val_list=make_datapath_list(phase='val')\n",
        "\n",
        "train_list"
      ],
      "metadata": {
        "id": "TYqjUfKTj0YN"
      },
      "execution_count": null,
      "outputs": []
    },
    {
      "cell_type": "code",
      "source": [
        "from torch.utils.data import Dataset, DataLoader\n",
        "\n",
        "class HymenopteraDataset(Dataset):\n",
        "\n",
        "  def __init__(self, file_list, transform=None, phase='train'):\n",
        "    self.file_list = file_list   # 파일 경로 리스트\n",
        "    self.transform = transform   # 전처리 클래스의 인스턴스\n",
        "    self.phase = phase   # train or val 지정\n",
        "\n",
        "def __len__(self):\n",
        "    return len(self.file_list)\n",
        "\n",
        "def __getitem__(self, index):\n",
        "    # index번째의 화상 로드\n",
        "    img_path = self.file_list[index]\n",
        "    img = Image.open(img_path)   # [높이][폭][색RGB]\n",
        "\n",
        "    # 화상의 전처리 실시\n",
        "    img_transformed = self.transform(\n",
        "        img, self.phase) # torch.Size([3, 224, 224])\n",
        "\n",
        "    # 화상 라벨을 파일 이름에서 추출\n",
        "    if self.phase == \"train\":\n",
        "        label = img_path[30:34]\n",
        "    elif self.phase == \"val\":\n",
        "        label = img_path[28:32]\n",
        "\n",
        "    # 라벨을 숫자로 변경\n",
        "    if label == \"ants\":\n",
        "        label = 0\n",
        "    elif label == \"bees\":\n",
        "        label = 1\n",
        "\n",
        "    return img_transformed, label\n"
      ],
      "metadata": {
        "id": "RfeCy6hfl3Ar"
      },
      "execution_count": null,
      "outputs": []
    },
    {
      "cell_type": "code",
      "source": [
        "train_dataset = HymenopteraDataset(\n",
        "    file_list=train_list, transform=ImageTransform(resize, mean, std), phase='train')\n",
        "\n",
        "val_dataset = HymenopteraDataset(\n",
        "    file_list=val_list, transform=ImageTransform(resize, mean, std), phase='val')\n"
      ],
      "metadata": {
        "id": "kHZeWd5xm2_H"
      },
      "execution_count": null,
      "outputs": []
    },
    {
      "cell_type": "code",
      "source": [
        "# 미니 배치 크기 지정\n",
        "batch_size = 32\n",
        "\n",
        "# 데이터 로더 작성\n",
        "train_dataloader = torch.utils.data.DataLoader(\n",
        "    train_dataset, batch_size=batch_size, shuffle=True)\n",
        "\n",
        "val_dataloader = torch.utils.data.DataLoader(\n",
        "    val_dataset, batch_size=batch_size, shuffle=False)\n",
        "\n",
        "# 사전형 변수에 정리\n",
        "dataloaders_dict = {\"train\": train_dataloader, \"val\": val_dataloader}\n",
        "\n",
        "# 동작 확인\n",
        "batch_iterator = iter(dataloaders_dict[\"train\"])  # 반복자(iterator)로 변환\n",
        "inputs, labels = next(batch_iterator)  # 첫 번째 요소 추출\n",
        "print(inputs.size())\n",
        "print(labels)"
      ],
      "metadata": {
        "id": "ubbFUh21nJCT"
      },
      "execution_count": null,
      "outputs": []
    },
    {
      "cell_type": "code",
      "source": [
        "import torch.nn as nn\n",
        "criterion = nn.CrossEntropyLoss()\n",
        "\n",
        "params_to_update = []\n",
        "\n",
        "# 학습시킬 파라미터명\n",
        "update_param_names = [\"classifier.6.weight\", \"classifier.6.bias\"]\n",
        "\n",
        "# 학습시킬 파라미터 외에는 동결 상태로 설정하여 값이 변하지 않도록 설정\n",
        "for name, param in net.named_parameters():\n",
        "    if name in update_param_names:\n",
        "        param.requires_grad = True\n",
        "        params_to_update.append(param)\n",
        "        print(name)\n",
        "    else:\n",
        "        param.requires_grad = False"
      ],
      "metadata": {
        "id": "JBZzwM0znUOE"
      },
      "execution_count": null,
      "outputs": []
    },
    {
      "cell_type": "code",
      "source": [
        "import tqdm\n",
        "def train_model(net, dataloaders_dict, criterion, optimizer, num_epochs):\n",
        "\n",
        "    # 에포크 루프\n",
        "    for epoch in range(num_epochs):\n",
        "        print('Epoch {}/{}'.format(epoch+1, num_epochs))\n",
        "        print('-------------')\n",
        "\n",
        "        # 학습 및 검증 루프\n",
        "        for phase in ['train', 'val']:\n",
        "            if phase == 'train':\n",
        "                net.train()  # 모델을 훈련 모드로\n",
        "            else:\n",
        "                net.eval()   # 모델을 평가 모드로\n",
        "\n",
        "            epoch_loss = 0.0  # 에포크 손실 합\n",
        "            epoch_corrects = 0  # 에포크 정확한 수\n",
        "\n",
        "            # 학습과정의 정확성 및 검증 성능을 확인하기 위해서 epoch=0일 때의 훈련 생략\n",
        "            if (epoch == 0) and (phase == 'train'):\n",
        "                continue\n",
        "\n",
        "            # 데이터 로더로 미니 배치를 꺼내는 루프\n",
        "            for inputs, labels in tqdm(dataloaders_dict[phase]):\n",
        "\n",
        "                # 옵티마이저 초기화\n",
        "                optimizer.zero_grad()\n",
        "\n",
        "                # 순전파 계산\n",
        "                with torch.set_grad_enabled(phase == 'train'):\n",
        "                    outputs = net(inputs)\n",
        "                    loss = criterion(outputs, labels)  # 손실 계산\n",
        "                    _, preds = torch.max(outputs, 1)  # 최댓값 예측\n",
        "\n",
        "                    # 훈련 시에만 오차 역전파\n",
        "                    if phase == 'train':\n",
        "                        loss.backward()\n",
        "                        optimizer.step()\n",
        "\n",
        "                # 손실 합계 갱신\n",
        "                epoch_loss += loss.item() * inputs.size(0)\n",
        "                # 정답 수의 합계 갱신\n",
        "                epoch_corrects += torch.sum(preds == labels.data)\n",
        "                            # 에폭당 손실과 정답률 표시\n",
        "                epoch_loss = epoch_loss / len(dataloaders_dict[phase].dataset)\n",
        "                epoch_acc = epoch_corrects.double() / len(dataloaders_dict[phase].dataset)\n",
        "\n",
        "                print('{} Loss: {:.4f} Acc: {:.4f}'.format(\n",
        "                    phase, epoch_loss, epoch_acc))\n",
        "\n",
        "import torch.optim as optim\n",
        "# 최적화 기법 설정\n",
        "optimizer = optim.SGD(params=params_to_update, lr=0.001, momentum=0.9)\n",
        "\n",
        "# 학습 및 검증 실시\n",
        "num_epochs=2\n",
        "train_model(net, dataloaders_dict, criterion, optimizer, num_epochs=num_epochs)\n",
        "\n"
      ],
      "metadata": {
        "id": "uzkiDyBJnqbz"
      },
      "execution_count": null,
      "outputs": []
    }
  ]
}